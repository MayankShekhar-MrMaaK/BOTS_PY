{
 "cells": [
  {
   "cell_type": "markdown",
   "metadata": {},
   "source": [
    "# MESSY FOLDER:\n",
    "Task: Given a folder containing files with the following formats – png, jpg, gif. Write a\n",
    "script to make three folders named as “png”, “jpg” and “gif” respectively and move all\n",
    "the files to their respective folders, i.e. all .png files in png folder, .jpg files in jpg folder\n",
    "and .gif files in gif folder."
   ]
  },
  {
   "cell_type": "code",
   "execution_count": 1,
   "metadata": {},
   "outputs": [],
   "source": [
    "import os, shutil"
   ]
  },
  {
   "cell_type": "code",
   "execution_count": 2,
   "metadata": {},
   "outputs": [],
   "source": [
    "directory=[\"png\", \"jpg\", \"gif\"]\n",
    "parent_dir=\"C:/Users/MrMaak/Desktop/RESEARCH/\""
   ]
  },
  {
   "cell_type": "code",
   "execution_count": 3,
   "metadata": {},
   "outputs": [],
   "source": [
    "for d in directory:\n",
    "    path=os.path.join(parent_dir, d)\n",
    "    try:  \n",
    "        os.mkdir(path)  \n",
    "    except OSError as error:  \n",
    "        pass"
   ]
  },
  {
   "cell_type": "code",
   "execution_count": 4,
   "metadata": {},
   "outputs": [],
   "source": [
    "files=os.listdir(\"C:/Users/MrMaak/Desktop/RESEARCH/\")"
   ]
  },
  {
   "cell_type": "code",
   "execution_count": 5,
   "metadata": {},
   "outputs": [],
   "source": [
    "def moveto(f, des):\n",
    "    source = \"C:/Users/MrMaak/Desktop/RESEARCH/\"+f\n",
    "    destination = \"C:/Users/MrMaak/Desktop/RESEARCH/\"+des\n",
    "    shutil.move(source, destination)\n",
    "    print(\"{} MOVED SUCCESSFULLY TO {}\".format(f,des))"
   ]
  },
  {
   "cell_type": "code",
   "execution_count": 6,
   "metadata": {},
   "outputs": [
    {
     "name": "stdout",
     "output_type": "stream",
     "text": [
      "60549_mirror2.jpg MOVED SUCCESSFULLY TO jpg\n",
      "CANNOT MOVE gif to FOLDER- png or jpg or gif\n",
      "CANNOT MOVE jpg to FOLDER- png or jpg or gif\n",
      "CANNOT MOVE png to FOLDER- png or jpg or gif\n",
      "red-light-beams-1996035.jpg MOVED SUCCESSFULLY TO jpg\n",
      "CANNOT MOVE V.For.Vendetta.2006.1080p.BrRip.x264.YIFY.srt to FOLDER- png or jpg or gif\n"
     ]
    }
   ],
   "source": [
    "for f in files: \n",
    "    file_name, file_extension = os.path.splitext(\"C:/Users/MrMaak/Desktop/RESEARCH/\"+f)\n",
    "    if file_extension.lower()==\".png\":\n",
    "        moveto(f, \"png\")\n",
    "    elif file_extension.lower()==\".jpg\":\n",
    "        moveto(f, \"jpg\")\n",
    "    elif file_extension.lower()==\".gif\":\n",
    "        moveto(f, \"gif\")\n",
    "    else:\n",
    "        print(\"CANNOT MOVE {} to FOLDER- png or jpg or gif\".format(f))"
   ]
  },
  {
   "cell_type": "code",
   "execution_count": null,
   "metadata": {},
   "outputs": [],
   "source": []
  }
 ],
 "metadata": {
  "kernelspec": {
   "display_name": "Python 3",
   "language": "python",
   "name": "python3"
  },
  "language_info": {
   "codemirror_mode": {
    "name": "ipython",
    "version": 3
   },
   "file_extension": ".py",
   "mimetype": "text/x-python",
   "name": "python",
   "nbconvert_exporter": "python",
   "pygments_lexer": "ipython3",
   "version": "3.7.6"
  }
 },
 "nbformat": 4,
 "nbformat_minor": 4
}
